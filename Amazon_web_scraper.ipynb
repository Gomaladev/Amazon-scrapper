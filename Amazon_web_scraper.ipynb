{
 "cells": [
  {
   "cell_type": "code",
   "execution_count": 11,
   "metadata": {},
   "outputs": [],
   "source": [
    "import time\n",
    "import threading\n",
    "import csv\n",
    "from bs4 import BeautifulSoup\n",
    "from selenium import webdriver\n",
    "from selenium.webdriver.edge.service import Service\n",
    "from selenium.webdriver.edge.options import Options"
   ]
  },
  {
   "cell_type": "code",
   "execution_count": 12,
   "metadata": {},
   "outputs": [],
   "source": [
    "edge_options = Options()\n",
    "edge_options.add_argument('--headless')\n",
    "edge_options.add_argument('--disable-gpu')\n",
    "edge_options.add_argument('--no-sandbox')\n",
    "edge_options.add_argument('start-maximized')\n",
    "service = Service()"
   ]
  },
  {
   "cell_type": "code",
   "execution_count": 13,
   "metadata": {},
   "outputs": [],
   "source": [
    "num_queries = int(input(\"How many product searches do you want to perform? \"))"
   ]
  },
  {
   "cell_type": "code",
   "execution_count": 14,
   "metadata": {},
   "outputs": [],
   "source": [
    "search_queries = []\n",
    "for i in range(num_queries):\n",
    "    query = input(f\"Enter search query {i+1}: \").strip().replace(' ', '+')  # Replacing spaces with '+'\n",
    "    search_queries.append(f'https://www.amazon.com/s?k={query}')"
   ]
  },
  {
   "cell_type": "code",
   "execution_count": 15,
   "metadata": {},
   "outputs": [],
   "source": [
    "threads = []\n",
    "results = []\n",
    "\n",
    "for url in search_queries:\n",
    "    def scrape_task(url=url):\n",
    "        # Initialize WebDriver for each thread\n",
    "        driver = webdriver.Edge(service=service, options=edge_options)\n",
    "        driver.get(url)\n",
    "        time.sleep(2)  # Wait for the page to load completely\n",
    "        page_source = driver.page_source\n",
    "        driver.quit()\n",
    "\n",
    "        # Parse HTML with BeautifulSoup\n",
    "        soup = BeautifulSoup(page_source, 'html.parser')\n",
    "        \n",
    "        # Extract product information\n",
    "        product_list = []\n",
    "        for item in soup.select('div.s-main-slot div[data-asin]'):\n",
    "            name = item.select_one('span.a-size-medium').get_text(strip=True) if item.select_one('span.a-size-medium') else None\n",
    "            price = item.select_one('span.a-price-whole').get_text(strip=True) if item.select_one('span.a-price-whole') else None\n",
    "            rating = item.select_one('span.a-icon-alt').get_text(strip=True) if item.select_one('span.a-icon-alt') else None\n",
    "            reviews = item.select_one('span.a-size-base').get_text(strip=True) if item.select_one('span.a-size-base') else None\n",
    "            product_list.append([name, price, rating, reviews])\n",
    "\n",
    "        # Append product data to results\n",
    "        results.extend(product_list)\n",
    "\n",
    "    thread = threading.Thread(target=scrape_task)\n",
    "    threads.append(thread)\n",
    "    thread.start()"
   ]
  },
  {
   "cell_type": "code",
   "execution_count": 16,
   "metadata": {},
   "outputs": [],
   "source": [
    "for thread in threads:\n",
    "    thread.join()"
   ]
  },
  {
   "cell_type": "code",
   "execution_count": 17,
   "metadata": {},
   "outputs": [
    {
     "name": "stdout",
     "output_type": "stream",
     "text": [
      "Saved data to amazon_products.csv\n"
     ]
    }
   ],
   "source": [
    "with open('amazon_products.csv', mode='w', newline='', encoding='utf-8') as file:\n",
    "    writer = csv.writer(file)\n",
    "    writer.writerow(['Name', 'Price', 'Rating', 'Reviews'])  # Header\n",
    "    writer.writerows(results)\n",
    "\n",
    "print('Saved data to amazon_products.csv')"
   ]
  },
  {
   "cell_type": "code",
   "execution_count": 1,
   "metadata": {},
   "outputs": [
    {
     "data": {
      "text/plain": [
       "'c:\\\\Users\\\\Mohan'"
      ]
     },
     "execution_count": 1,
     "metadata": {},
     "output_type": "execute_result"
    }
   ],
   "source": [
    "import os\n",
    "os.getcwd()"
   ]
  }
 ],
 "metadata": {
  "kernelspec": {
   "display_name": "Python 3",
   "language": "python",
   "name": "python3"
  },
  "language_info": {
   "codemirror_mode": {
    "name": "ipython",
    "version": 3
   },
   "file_extension": ".py",
   "mimetype": "text/x-python",
   "name": "python",
   "nbconvert_exporter": "python",
   "pygments_lexer": "ipython3",
   "version": "3.10.11"
  }
 },
 "nbformat": 4,
 "nbformat_minor": 2
}
